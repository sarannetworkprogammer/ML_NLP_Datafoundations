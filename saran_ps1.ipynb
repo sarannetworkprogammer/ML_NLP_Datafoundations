{
  "cells": [
    {
      "cell_type": "markdown",
      "metadata": {
        "id": "view-in-github",
        "colab_type": "text"
      },
      "source": [
        "<a href=\"https://colab.research.google.com/github/sarannetworkprogammer/Data_foundations-_ML_NLP/blob/main/saran_ps1.ipynb\" target=\"_parent\"><img src=\"https://colab.research.google.com/assets/colab-badge.svg\" alt=\"Open In Colab\"/></a>"
      ]
    },
    {
      "cell_type": "markdown",
      "metadata": {
        "id": "wjFW9L3hufVl"
      },
      "source": [
        "** italicized textName**: \n",
        "\n",
        "**abc123**:\n",
        "\n",
        "Remember, it is okay to talk to your classmates about the homework, but do not share solutions. You should complete the homework on your own. Below, please list all of your peers (\"collaborators\") that you discussed the homework with.\n",
        "\n",
        "**Colaborators**:\n",
        "- Name 1 \n",
        "- Name 2\n",
        "- Name 3\n",
        "\n",
        "# Problem Set 1 (PS 1)\n",
        "\n",
        "Complete the 4 functions as directed to:\n",
        "\n",
        "- validate the format of a string\n",
        "- compute probabilities and store them in a lookup table (dictionary)\n",
        "- generate a string deterministically based on a given string\n",
        "\n",
        "Each function is worth 1 to 4 points, for a total of 10 points. Other assignments will be more complicated, and worth more points, for this I just want to make sure you are in the correct course. I care mainly about correctness of the implementation, but reserve the right to deduct points for code that is difficult to read.\n",
        "\n",
        "This assignment will test your skills at implementing algorithms in Python from scratch. If this is your first experience with traditional programming assignments, then it may take some time to figure everything out. Please schedule time to meet with meet with me if you need help. I recommend you start early. For others with significant programming experience, it will not take long.\n",
        "\n",
        "## Submission Instructions\n",
        "\n",
        "After completing the exercises below, generate a PDF *or* HTML of the code **with** outputs. Then, create a zip file containing both the completed exercise and the generated PDF/HTML. You are **required** to check the PDF/HTML to make sure all the code **and** outputs are clearly visible and easy to read. If your code goes off the page, you should reduce the line size. I generally recommend not going over 80 characters.\n",
        "\n",
        "Finally, name the zip file using a combination of the assigment ID and your name, e.g., ps1_rios.zip. Submit your homework on Blackboard.\n",
        "\n",
        "## Preliminary Information\n",
        "\n",
        "For the homework exercises, you will need to write code in the specified functions. The variable specified in the open and close parenthesis \"my_function(**variable_name**)\" of the function should **NOT** be reassigned. They will hold important information---such as the string you should process---which is required to complete each task. Your job is to write code that returns the required value for each exercise. \n",
        "\n",
        "Please refer to the example below to understand how functions work in python:\n",
        "```python\n",
        "def my_function(my_variable):\n",
        "    # Your code goes here\n",
        "    print(\"The parameter is {}\".format(my_variable))\n",
        "    new_variable = my_variable + 100\n",
        "    return new_variable\n",
        "\n",
        "# my_variable in my_function() will be assigned 42.\n",
        "return_value = my_function(42) # return value will be asigned the value given by the \"return\" in my_function()\n",
        "print(\"The function returned the value {}\".format(return_value))\n",
        "```\n",
        "\n",
        "If you run the code above, you will get the following output:\n",
        "```\n",
        "The parameter is 42\n",
        "The function returned the value 142\n",
        "```\n",
        "\n",
        "Please note that you do **NOT** need to create new functions. The functions have already been specified. You simply need to fill them out with code. "
      ]
    },
    {
      "cell_type": "markdown",
      "metadata": {
        "id": "IY30KLHXufVq"
      },
      "source": [
        "## Exercise 1 (4 points)"
      ]
    },
    {
      "cell_type": "markdown",
      "metadata": {
        "id": "uJO_oEZzufVr"
      },
      "source": [
        "Checks whether the string is a valid employee ID. An employee ID is valid if and only if it consists only of 6-10 alphabetic characters (letters), followed by 2 numeric digits. Implement the validation  **without** any external libraries (i.e., do not use the \"re\" package). You may use the .isalpha() and .isdigit() methods, variables, standard data structures such as lists, if statements, loops, etc."
      ]
    },
    {
      "cell_type": "code",
      "execution_count": null,
      "metadata": {
        "colab": {
          "base_uri": "https://localhost:8080/"
        },
        "id": "dQjsRrUMufVs",
        "outputId": "5c63de1c-7839-4296-a14b-4920fdfbd866"
      },
      "outputs": [
        {
          "output_type": "stream",
          "name": "stdout",
          "text": [
            "True\n",
            "False\n",
            "True\n",
            "False\n",
            "12\n"
          ]
        }
      ],
      "source": [
        "# Example use of .isalpha() and .isdigit(). This code is just to help, you can delete this cell if you want.\n",
        "print(\"32\".isdigit()) # if the string is a digit, .isdigit() will return True, otherwise it returns false\n",
        "print(\"lkjsdaf\".isdigit()) # Here is an example of .isdigit() returning False\n",
        "print(\"lskdjf\".isalpha()) # In this case we can check if all characters are \"alphabetic\" by using .isalpha() it returns True here.\n",
        "print(\"ab1\".isalpha()) # Here is an example of .isalpha() resulting in a False\n",
        "print(len(\"ALKJDSLKFJDS\")) # You can check how many characters are in a string by using the len() function.\n"
      ]
    },
    {
      "cell_type": "code",
      "execution_count": null,
      "metadata": {
        "id": "_R5YUbCsufVu"
      },
      "outputs": [],
      "source": [
        "# Write code here. Do NOT delete this cell.\n",
        "def validate(s):\n",
        "  l = len(s)\n",
        "  #print(s[0:l-3])\n",
        "  #print(s[l-3:l])\n",
        "\n",
        "  if l >= 8 and l <= 12: # in question it said 6 -10 letters and followed by 2 numbers so total length will be ranging from 8 -12\n",
        "\n",
        "    if ((s[0:l-2].isalpha()) and (s[l-2:l].isdigit())):\n",
        "\n",
        "      return True\n",
        "\n",
        "\n",
        "    # Write code here\n",
        "  return False\n",
        "  \n",
        "  # The code should return a boolean True or boolean False, depending on the input."
      ]
    },
    {
      "cell_type": "code",
      "execution_count": null,
      "metadata": {
        "colab": {
          "base_uri": "https://localhost:8080/"
        },
        "id": "KFE8pOuUufVv",
        "outputId": "27efb89c-824f-4495-ff11-fd5ba65604b6"
      },
      "outputs": [
        {
          "output_type": "stream",
          "name": "stdout",
          "text": [
            "Asserts Completed Successfully\n"
          ]
        }
      ],
      "source": [
        "assert(validate('AbcdEf00') == True)\n",
        "assert(validate('$0RQLpCHz49') == False)\n",
        "print(\"Asserts Completed Successfully\")"
      ]
    },
    {
      "cell_type": "markdown",
      "metadata": {
        "id": "SHSJhb30ufVw"
      },
      "source": [
        "## Exercise 2 (3 points)\n",
        "\n",
        "Given a sequence of the DNA bases {A, C, G, T}, stored as a string, returns a probability table in a data structure such that one base can be looked up to get the probability p(base). More specifically, write code to return a dictionary such that the value for each key is the probably of that key occuring the the string. For example, give the string \"abb\", p(a) is equal to $\\frac{1}{3}$ and p(b) is $\\frac{2}{3}$ Simply, divide the number of times each character appears by the total number of characters. So, the code should return the following dictionary:\n",
        "\n",
        "```{\"a\": 0.33333, \"b\": 0.6666}```\n",
        "\n",
        "You may use the collections module, but no other libraries."
      ]
    },
    {
      "cell_type": "code",
      "execution_count": null,
      "metadata": {
        "id": "An_FGsBQufVw"
      },
      "outputs": [],
      "source": [
        "def dna_prob1(seq):\n",
        "    # Write code here\n",
        "    l = len(seq)\n",
        "    dict1 = {}\n",
        "    count = 0\n",
        "    for letter in seq:\n",
        "      #print(letter)\n",
        "      if not letter in dict1:\n",
        "        count = 0\n",
        "        count = count + 1\n",
        "        dict1[letter] = count\n",
        "      else:\n",
        "        \n",
        "        dict1[letter] = dict1[letter] + 1\n",
        "\n",
        "\n",
        "    for key in dict1:\n",
        "      dict1[key] = dict1[key] * (1/l)\n",
        "\n",
        "    return dict1                             # The code should return a dictionary"
      ]
    },
    {
      "cell_type": "markdown",
      "metadata": {
        "id": "BahNqAqpufVx"
      },
      "source": [
        "The lines below give example inputs and correct outputs using asserts, and can be run to test the code. Passing these tests is **NOT** sufficient to guarantee your implementation is correct. You may add additional test cases, but do not remove any tests."
      ]
    },
    {
      "cell_type": "code",
      "execution_count": null,
      "metadata": {
        "colab": {
          "base_uri": "https://localhost:8080/"
        },
        "id": "QDvK45YjufVx",
        "outputId": "2a15570f-c630-4abf-de4e-5fc33cf312a0"
      },
      "outputs": [
        {
          "output_type": "stream",
          "name": "stdout",
          "text": [
            "Asserts Completed Successfully\n"
          ]
        }
      ],
      "source": [
        "tbl = dna_prob1('ATCGATTGAGCTCTAGCG')\n",
        "assert(tbl['T'] == 5/18)\n",
        "assert(tbl['G'] == 5/18)\n",
        "assert(tbl['C'] == 4/18)\n",
        "print(\"Asserts Completed Successfully\")"
      ]
    },
    {
      "cell_type": "markdown",
      "metadata": {
        "id": "l8WvfcFaufVy"
      },
      "source": [
        "## Exercise 3 (3 points)\n",
        "Given a string representing a sequence of DNA bases, returns the paired sequence, also as a string, where A is always paired with T and C with G, i.e., replace A with T, T with A, ...\n",
        "\n",
        "Do not use any libraries.\n",
        "\n",
        "Hint: this can be done in one line. (More than one line is okay too.)"
      ]
    },
    {
      "cell_type": "code",
      "execution_count": null,
      "metadata": {
        "id": "kNt3WuM1ufVy"
      },
      "outputs": [],
      "source": [
        "def dna_bp(seq):\n",
        "  newseq = \"\"\n",
        "  for letter in seq:\n",
        "    if letter == \"A\":\n",
        "      newseq = newseq + \"T\"\n",
        "    elif letter == \"T\":\n",
        "      newseq = newseq + \"A\"\n",
        "    elif letter == \"G\":\n",
        "      newseq = newseq + \"C\"\n",
        "    elif letter == \"C\":\n",
        "      newseq = newseq + \"G\"\n",
        "    else:\n",
        "      newseq= newseq + letter\n",
        "\n",
        "  return newseq  # The code should return a string"
      ]
    },
    {
      "cell_type": "markdown",
      "metadata": {
        "id": "AUrnBg5GufVy"
      },
      "source": [
        "The lines below give example inputs and correct outputs using asserts, and can be run to test the code. Passing these tests is **NOT** sufficient to guarantee your implementation is correct. You may add additional test cases, but do not remove any tests."
      ]
    },
    {
      "cell_type": "code",
      "execution_count": null,
      "metadata": {
        "colab": {
          "base_uri": "https://localhost:8080/"
        },
        "id": "4QlQW_sIufVy",
        "outputId": "492de2b2-64e6-482f-bfe6-a37fe6e7ac8c"
      },
      "outputs": [
        {
          "output_type": "stream",
          "name": "stdout",
          "text": [
            "Asserts Completed Successfully\n"
          ]
        }
      ],
      "source": [
        "assert(dna_bp('ATCGATTGAGCTCTAGCG') == 'TAGCTAACTCGAGATCGC')\n",
        "print(\"Asserts Completed Successfully\")"
      ]
    },
    {
      "cell_type": "markdown",
      "metadata": {
        "id": "iY5jwIchufVz"
      },
      "source": [
        "## Extra Credit (2 points)\n",
        "\n",
        "Given a sequence of the DNA bases {A, C, G, T}, stored as a string, returns a conditional probability table in a data structure such that one base (b1) can be looked up, and then a second (b2), to get the probability p(b2 | b1) of the second base occurring immediately after the first. (Assumes the length of seq is >= 3, and that the probability of any b1 and b2 which have never been seen together is 0. Ignores the probability that b1 will be followed by the end of the string character.)\n",
        "\n",
        "Here is an example:\n",
        "```\n",
        "GAAAGG\n",
        "```\n",
        "\n",
        "P(A | G) = probability of A given the letter G occured directly before it = 1/2 = 0.5. The denominator is 2 instead of 3 because the last G does not have a letter after it. The denominator should be the number of times a letter appears with annother letter directly after it.\n",
        "\n",
        "P( G | G ) = probability of G given the letter G occured directly before it = 1/2 = 0.5\n",
        "\n",
        "P(G | A) = probability of G given the letter A occured directly before it = 1/3 = 0.33\n",
        "\n",
        "P(A | A) = probability of A given the letter A occured directly before it = 2/3 = .66\n",
        "\n",
        "The dictionary returned by dna_prob2 should be:\n",
        "\n",
        "```\n",
        "{'A': {'A': 2/3, 'G': 1/3, 'T': 0, 'C': 0}, 'G': {'A': 1/2, 'G': 1/2, 'T': 0, 'C': 0}, 'T': {'A': 0, 'T': 0, 'G': 0, 'C': 0}, 'C': {'A': 0, 'G': 0, 'T': 0, 'C': 0}}\n",
        "```\n",
        "\n",
        "Notice this is a \"nested\" dictionary, where the value of the outer dictionary is also a dictionary. All of the keys are strings.\n",
        "\n",
        "**Note**: 2 extra points adds 20% to your final homework grade. This can improve your grade substantially. So, I recommend working on this, if you are worried about the quizzes and Midterm."
      ]
    },
    {
      "cell_type": "code",
      "execution_count": null,
      "metadata": {
        "id": "w3-TF2_8ufVz"
      },
      "outputs": [],
      "source": [
        "def dna_prob2(seq):\n",
        "    # Write code here\n",
        "    return ... # The code should return a dictionary"
      ]
    },
    {
      "cell_type": "markdown",
      "metadata": {
        "id": "zNT0wN5SufVz"
      },
      "source": [
        "The lines below give example inputs and correct outputs using asserts, and can be run to test the code. Passing these tests is **NOT** sufficient to guarantee your implementation is correct. You may add additional test cases, but do not remove any tests."
      ]
    },
    {
      "cell_type": "code",
      "execution_count": null,
      "metadata": {
        "colab": {
          "base_uri": "https://localhost:8080/",
          "height": 235
        },
        "id": "_1X7j-3DufVz",
        "outputId": "b0381ec5-4485-4f12-fc7b-d21dc70a7625"
      },
      "outputs": [
        {
          "output_type": "error",
          "ename": "TypeError",
          "evalue": "ignored",
          "traceback": [
            "\u001b[0;31m---------------------------------------------------------------------------\u001b[0m",
            "\u001b[0;31mTypeError\u001b[0m                                 Traceback (most recent call last)",
            "\u001b[0;32m<ipython-input-39-348a4680cd55>\u001b[0m in \u001b[0;36m<module>\u001b[0;34m\u001b[0m\n\u001b[1;32m      1\u001b[0m \u001b[0mtbl\u001b[0m \u001b[0;34m=\u001b[0m \u001b[0mdna_prob2\u001b[0m\u001b[0;34m(\u001b[0m\u001b[0;34m'ATCGATTGAGCTCTAGCG'\u001b[0m\u001b[0;34m)\u001b[0m\u001b[0;34m\u001b[0m\u001b[0;34m\u001b[0m\u001b[0m\n\u001b[0;32m----> 2\u001b[0;31m \u001b[0;32massert\u001b[0m\u001b[0;34m(\u001b[0m\u001b[0mtbl\u001b[0m\u001b[0;34m[\u001b[0m\u001b[0;34m'T'\u001b[0m\u001b[0;34m]\u001b[0m\u001b[0;34m[\u001b[0m\u001b[0;34m'T'\u001b[0m\u001b[0;34m]\u001b[0m \u001b[0;34m==\u001b[0m \u001b[0;36m0.2\u001b[0m\u001b[0;34m)\u001b[0m\u001b[0;34m\u001b[0m\u001b[0;34m\u001b[0m\u001b[0m\n\u001b[0m\u001b[1;32m      3\u001b[0m \u001b[0;32massert\u001b[0m\u001b[0;34m(\u001b[0m\u001b[0mtbl\u001b[0m\u001b[0;34m[\u001b[0m\u001b[0;34m'G'\u001b[0m\u001b[0;34m]\u001b[0m\u001b[0;34m[\u001b[0m\u001b[0;34m'A'\u001b[0m\u001b[0;34m]\u001b[0m \u001b[0;34m==\u001b[0m \u001b[0;36m0.5\u001b[0m\u001b[0;34m)\u001b[0m\u001b[0;34m\u001b[0m\u001b[0;34m\u001b[0m\u001b[0m\n\u001b[1;32m      4\u001b[0m \u001b[0;32massert\u001b[0m\u001b[0;34m(\u001b[0m\u001b[0mtbl\u001b[0m\u001b[0;34m[\u001b[0m\u001b[0;34m'C'\u001b[0m\u001b[0;34m]\u001b[0m\u001b[0;34m[\u001b[0m\u001b[0;34m'G'\u001b[0m\u001b[0;34m]\u001b[0m \u001b[0;34m==\u001b[0m \u001b[0;36m0.5\u001b[0m\u001b[0;34m)\u001b[0m\u001b[0;34m\u001b[0m\u001b[0;34m\u001b[0m\u001b[0m\n\u001b[1;32m      5\u001b[0m \u001b[0mprint\u001b[0m\u001b[0;34m(\u001b[0m\u001b[0;34m\"Asserts Completed Successfully\"\u001b[0m\u001b[0;34m)\u001b[0m\u001b[0;34m\u001b[0m\u001b[0;34m\u001b[0m\u001b[0m\n",
            "\u001b[0;31mTypeError\u001b[0m: 'ellipsis' object is not subscriptable"
          ]
        }
      ],
      "source": [
        "tbl = dna_prob2('ATCGATTGAGCTCTAGCG')\n",
        "assert(tbl['T']['T'] == 0.2)\n",
        "assert(tbl['G']['A'] == 0.5)\n",
        "assert(tbl['C']['G'] == 0.5)\n",
        "print(\"Asserts Completed Successfully\")"
      ]
    }
  ],
  "metadata": {
    "kernelspec": {
      "display_name": "Python 3 (ipykernel)",
      "language": "python",
      "name": "python3"
    },
    "language_info": {
      "codemirror_mode": {
        "name": "ipython",
        "version": 3
      },
      "file_extension": ".py",
      "mimetype": "text/x-python",
      "name": "python",
      "nbconvert_exporter": "python",
      "pygments_lexer": "ipython3",
      "version": "3.8.12"
    },
    "colab": {
      "provenance": [],
      "include_colab_link": true
    }
  },
  "nbformat": 4,
  "nbformat_minor": 0
}